{
 "cells": [
  {
   "cell_type": "markdown",
   "metadata": {},
   "source": [
    "# Recommandation des produits\n",
    "\n",
    "# d’épicerie sur Amazon.\n",
    "\n",
    "\n",
    "\n",
    "\n",
    "\n",
    "\n",
    "### Objectif\n",
    "\n",
    "\n",
    "Le but de ce projet est de permettre la recommendation de produits qui peuvent interesser plusieurs client. Pour ce faire \n",
    "\n",
    "on a du récuperer un ensemble de donnée disponible sur [Stanford Large Network Dataset Collection](http://snap.stanford.edu/data/amazon/productGraph/categoryFiles/reviews_Grocery_and_Gourmet_Food_5.json.gz)\n",
    "\n",
    "Les algorithmes à utiliser sont classés sous la catégorie \"Collaborative filtering\", ou filtrage collaboratif en français \n",
    "\n",
    "et qui regroupe un ensemble de méthodes visant à construire des systèmes de recommendation utilisant les opinions et \n",
    "\n",
    "évaluations d'un groupe pour aider l'individu.\n",
    "\n",
    "L'algorithme le plus utilisé est nommé **ALS** (Alterning Least Squares) et est disponible sous Spark.\n"
   ]
  },
  {
   "cell_type": "markdown",
   "metadata": {},
   "source": [
    "### Importation des modules"
   ]
  },
  {
   "cell_type": "code",
   "execution_count": 86,
   "metadata": {},
   "outputs": [],
   "source": [
    "import findspark\n",
    "findspark.init('/home/amine/spark')\n",
    "\n",
    "from pyspark.sql import SparkSession\n",
    "from pyspark.sql import SQLContext\n",
    "from pyspark.sql.types import *\n",
    "from pyspark.sql.functions import udf\n",
    "from pyspark.ml.evaluation import RegressionEvaluator\n",
    "from pyspark.ml.recommendation import ALS\n",
    "from pyspark.ml.feature import StringIndexer"
   ]
  },
  {
   "cell_type": "markdown",
   "metadata": {},
   "source": [
    "### Lire les donnée en tant que dataframe"
   ]
  },
  {
   "cell_type": "code",
   "execution_count": 2,
   "metadata": {},
   "outputs": [
    {
     "name": "stdout",
     "output_type": "stream",
     "text": [
      "+----------+-------+-------+--------------------+-----------+--------------+---------------+--------------------+--------------+\n",
      "|      asin|helpful|overall|          reviewText| reviewTime|    reviewerID|   reviewerName|             summary|unixReviewTime|\n",
      "+----------+-------+-------+--------------------+-----------+--------------+---------------+--------------------+--------------+\n",
      "|616719923X| [0, 0]|    4.0|Just another flav...| 06 1, 2013|A1VEELTKS8NLZB|Amazon Customer|          Good Taste|    1370044800|\n",
      "|616719923X| [0, 1]|    3.0|I bought this on ...|05 19, 2014|A14R9XMZVJ6INB|        amf0001|3.5 stars,  sadly...|    1400457600|\n",
      "|616719923X| [3, 4]|    4.0|Really good. Grea...| 10 8, 2013|A27IQHDZFQFNGG|        Caitlin|                Yum!|    1381190400|\n",
      "|616719923X| [0, 0]|    5.0|I had never had i...|05 20, 2013|A31QY5TASILE89|   DebraDownSth|Unexpected flavor...|    1369008000|\n",
      "|616719923X| [1, 2]|    4.0|I've been looking...|05 26, 2013|A2LWK003FFMCI5|       Diana X.|Not a very strong...|    1369526400|\n",
      "+----------+-------+-------+--------------------+-----------+--------------+---------------+--------------------+--------------+\n",
      "only showing top 5 rows\n",
      "\n"
     ]
    }
   ],
   "source": [
    "# SparkSession fournit un point d'entrée unique pour interagir avec la fonctionnalité Spark\n",
    "spark = SparkSession.builder.master('local').appName(\"Collaborative filtring\").config(\"spark.executor.memory\", \"1gb\")\\\n",
    ".getOrCreate()\n",
    "sc = spark.sparkContext\n",
    "#rdd = sc.textFile('reviews_Grocery_and_Gourmet_Food_5.json')\n",
    "sqlContext = SQLContext(sc)\n",
    "\n",
    "\n",
    "df = sqlContext.read.json('reviews_Grocery_and_Gourmet_Food_5.json')\n",
    "\n",
    "df.show(5)"
   ]
  },
  {
   "cell_type": "markdown",
   "metadata": {},
   "source": [
    "### Data Cleansing\n",
    "\n",
    "\n",
    "Affichage du shema de données"
   ]
  },
  {
   "cell_type": "code",
   "execution_count": 3,
   "metadata": {
    "scrolled": false
   },
   "outputs": [
    {
     "name": "stdout",
     "output_type": "stream",
     "text": [
      "root\n",
      " |-- asin: string (nullable = true)\n",
      " |-- helpful: array (nullable = true)\n",
      " |    |-- element: long (containsNull = true)\n",
      " |-- overall: double (nullable = true)\n",
      " |-- reviewText: string (nullable = true)\n",
      " |-- reviewTime: string (nullable = true)\n",
      " |-- reviewerID: string (nullable = true)\n",
      " |-- reviewerName: string (nullable = true)\n",
      " |-- summary: string (nullable = true)\n",
      " |-- unixReviewTime: long (nullable = true)\n",
      "\n"
     ]
    }
   ],
   "source": [
    "df.printSchema()"
   ]
  },
  {
   "cell_type": "markdown",
   "metadata": {},
   "source": [
    "On doit changer le type de **overall** à ***float***"
   ]
  },
  {
   "cell_type": "code",
   "execution_count": 5,
   "metadata": {},
   "outputs": [
    {
     "name": "stdout",
     "output_type": "stream",
     "text": [
      "root\n",
      " |-- asin: string (nullable = true)\n",
      " |-- helpful: array (nullable = true)\n",
      " |    |-- element: long (containsNull = true)\n",
      " |-- overall: float (nullable = true)\n",
      " |-- reviewText: string (nullable = true)\n",
      " |-- reviewTime: string (nullable = true)\n",
      " |-- reviewerID: string (nullable = true)\n",
      " |-- reviewerName: string (nullable = true)\n",
      " |-- summary: string (nullable = true)\n",
      " |-- unixReviewTime: long (nullable = true)\n",
      "\n"
     ]
    }
   ],
   "source": [
    "df=df.withColumn('overall', df['overall'].cast(FloatType()))\n",
    "df.printSchema()"
   ]
  },
  {
   "cell_type": "markdown",
   "metadata": {},
   "source": [
    "#### On va supprimer quelques colonnes qu'on juge d'etre non significatives a notre analyse"
   ]
  },
  {
   "cell_type": "code",
   "execution_count": 7,
   "metadata": {},
   "outputs": [
    {
     "name": "stdout",
     "output_type": "stream",
     "text": [
      "+----------+-------+-------+--------------+--------------------+\n",
      "|      asin|helpful|overall|    reviewerID|        reviewerName|\n",
      "+----------+-------+-------+--------------+--------------------+\n",
      "|616719923X| [0, 0]|    4.0|A1VEELTKS8NLZB|     Amazon Customer|\n",
      "|616719923X| [0, 1]|    3.0|A14R9XMZVJ6INB|             amf0001|\n",
      "|616719923X| [3, 4]|    4.0|A27IQHDZFQFNGG|             Caitlin|\n",
      "|616719923X| [0, 0]|    5.0|A31QY5TASILE89|        DebraDownSth|\n",
      "|616719923X| [1, 2]|    4.0|A2LWK003FFMCI5|            Diana X.|\n",
      "|616719923X| [0, 1]|    4.0|A1NZJTY0BAA2SK|           Elizabeth|\n",
      "|616719923X| [1, 2]|    3.0| AA95FYFIP38RM|Emily Veinglory \"...|\n",
      "|616719923X| [2, 3]|    5.0|A3FIVHUOGMUMPK|           greenlife|\n",
      "|616719923X| [0, 0]|    5.0|A27FSPAMTQF1J8|              Japhyl|\n",
      "|616719923X|[0, 10]|    1.0|A33NXNZ79H5K51|         Jean M \"JM\"|\n",
      "|616719923X| [6, 8]|    5.0|A220GN2X2R47JE|              Jeremy|\n",
      "|616719923X| [2, 3]|    5.0|A3C5Z05IKSSFB9|M. Magpoc \"malias...|\n",
      "|616719923X| [0, 0]|    5.0| AHA6G4IMEMAJR|    M. Zinn \"mczinn\"|\n",
      "|616719923X| [0, 0]|    5.0|A1Q2E3W9PRG313|             Sabrina|\n",
      "|616719923X| [0, 0]|    3.0|A1P3PLYYMURAV1|               Sunny|\n",
      "|616719923X| [0, 0]|    4.0|A38IEZF0P3ZUQJ|The Fallen Angel ...|\n",
      "|9742356831| [0, 0]|    5.0|A23RYWDS884TUL|       Another Freak|\n",
      "|9742356831| [1, 2]|    5.0| A945RBQWGZXCK|              Cheryl|\n",
      "|9742356831| [2, 2]|    5.0|A1TCSC0YWT82Q0|             GinSing|\n",
      "|9742356831| [1, 1]|    4.0|A3AMNY44OP8AOU|        Jennifer Lee|\n",
      "+----------+-------+-------+--------------+--------------------+\n",
      "only showing top 20 rows\n",
      "\n"
     ]
    }
   ],
   "source": [
    "df = df.select('asin', 'helpful', 'overall', 'reviewerID', 'reviewerName')\n",
    "df.show()"
   ]
  },
  {
   "cell_type": "markdown",
   "metadata": {},
   "source": [
    "#### Changeons les noms de colonnes pour une meilleure comprehension"
   ]
  },
  {
   "cell_type": "code",
   "execution_count": 8,
   "metadata": {},
   "outputs": [
    {
     "name": "stdout",
     "output_type": "stream",
     "text": [
      "+----------+------+-------+--------------+--------------------+\n",
      "| productID|rating|helpful|    reviewerID|        reviewerName|\n",
      "+----------+------+-------+--------------+--------------------+\n",
      "|616719923X|   4.0| [0, 0]|A1VEELTKS8NLZB|     Amazon Customer|\n",
      "|616719923X|   3.0| [0, 1]|A14R9XMZVJ6INB|             amf0001|\n",
      "|616719923X|   4.0| [3, 4]|A27IQHDZFQFNGG|             Caitlin|\n",
      "|616719923X|   5.0| [0, 0]|A31QY5TASILE89|        DebraDownSth|\n",
      "|616719923X|   4.0| [1, 2]|A2LWK003FFMCI5|            Diana X.|\n",
      "|616719923X|   4.0| [0, 1]|A1NZJTY0BAA2SK|           Elizabeth|\n",
      "|616719923X|   3.0| [1, 2]| AA95FYFIP38RM|Emily Veinglory \"...|\n",
      "|616719923X|   5.0| [2, 3]|A3FIVHUOGMUMPK|           greenlife|\n",
      "|616719923X|   5.0| [0, 0]|A27FSPAMTQF1J8|              Japhyl|\n",
      "|616719923X|   1.0|[0, 10]|A33NXNZ79H5K51|         Jean M \"JM\"|\n",
      "|616719923X|   5.0| [6, 8]|A220GN2X2R47JE|              Jeremy|\n",
      "|616719923X|   5.0| [2, 3]|A3C5Z05IKSSFB9|M. Magpoc \"malias...|\n",
      "|616719923X|   5.0| [0, 0]| AHA6G4IMEMAJR|    M. Zinn \"mczinn\"|\n",
      "|616719923X|   5.0| [0, 0]|A1Q2E3W9PRG313|             Sabrina|\n",
      "|616719923X|   3.0| [0, 0]|A1P3PLYYMURAV1|               Sunny|\n",
      "|616719923X|   4.0| [0, 0]|A38IEZF0P3ZUQJ|The Fallen Angel ...|\n",
      "|9742356831|   5.0| [0, 0]|A23RYWDS884TUL|       Another Freak|\n",
      "|9742356831|   5.0| [1, 2]| A945RBQWGZXCK|              Cheryl|\n",
      "|9742356831|   5.0| [2, 2]|A1TCSC0YWT82Q0|             GinSing|\n",
      "|9742356831|   4.0| [1, 1]|A3AMNY44OP8AOU|        Jennifer Lee|\n",
      "+----------+------+-------+--------------+--------------------+\n",
      "only showing top 20 rows\n",
      "\n"
     ]
    }
   ],
   "source": [
    "df = df.selectExpr(\"asin as productID\", \"overall as rating\", \"helpful as helpful\",\\\n",
    "                   \"reviewerID as reviewerID\", \"reviewerName as reviewerName\")\n",
    "df.show()"
   ]
  },
  {
   "cell_type": "markdown",
   "metadata": {},
   "source": [
    "### Implémentation de l'algorithme ALS\n",
    "\n",
    "On commencera par diviser notre ensemble de données en deux parties : Données de test (20%) et donnée d'apprentissage (80%)"
   ]
  },
  {
   "cell_type": "code",
   "execution_count": 105,
   "metadata": {
    "scrolled": true
   },
   "outputs": [
    {
     "name": "stdout",
     "output_type": "stream",
     "text": [
      "Root-mean-square error = 5.255598121085694\n"
     ]
    }
   ],
   "source": [
    "(training, test) = df2.randomSplit([0.8, 0.2])\n",
    "\n",
    "# Definition du modèle\n",
    "als = ALS(maxIter = 5, regParam = 0.01, userCol = \"reviewerID_new\", itemCol = \"productID_new\"\\\n",
    "         , ratingCol = \"rating\", coldStartStrategy = \"drop\")\n",
    "\n",
    "model = als.fit(training)\n",
    "\n",
    "# Faire des prediction sur les données de test\n",
    "predictions = model.transform(test)\n",
    "\n",
    "# Evaluer le modèle\n",
    "evaluator = RegressionEvaluator(metricName=\"rmse\", labelCol=\"rating\", predictionCol=\"prediction\")\n",
    "\n",
    "rmse = evaluator.evaluate(predictions)\n",
    "print(\"Root-mean-square error = \" + str(rmse))"
   ]
  },
  {
   "cell_type": "code",
   "execution_count": 96,
   "metadata": {},
   "outputs": [
    {
     "name": "stdout",
     "output_type": "stream",
     "text": [
      "+-------------+-------+------+--------------+--------------------+\n",
      "|productID_new|helpful|rating|reviewerID_new|        reviewerName|\n",
      "+-------------+-------+------+--------------+--------------------+\n",
      "|         4414| [0, 0]|   4.0|        530539|     Amazon Customer|\n",
      "|         4414| [0, 1]|   3.0|        530511|             amf0001|\n",
      "|         4414| [3, 4]|   4.0|        530595|             Caitlin|\n",
      "|         4414| [0, 0]|   5.0|        530671|        DebraDownSth|\n",
      "|         4414| [1, 2]|   4.0|        530612|            Diana X.|\n",
      "|         4414| [0, 1]|   4.0|        530532|           Elizabeth|\n",
      "|         4414| [1, 2]|   3.0|          5318|Emily Veinglory \"...|\n",
      "|         4414| [2, 3]|   5.0|        530688|           greenlife|\n",
      "|         4414| [0, 0]|   5.0|        530595|              Japhyl|\n",
      "|         4414|[0, 10]|   1.0|        530672|         Jean M \"JM\"|\n",
      "|         4414| [6, 8]|   5.0|        530590|              Jeremy|\n",
      "|         4414| [2, 3]|   5.0|        530685|M. Magpoc \"malias...|\n",
      "|         4414| [0, 0]|   5.0|          5323|    M. Zinn \"mczinn\"|\n",
      "|         4414| [0, 0]|   5.0|        530535|             Sabrina|\n",
      "|         4414| [0, 0]|   3.0|        530534|               Sunny|\n",
      "|         4414| [0, 0]|   4.0|        530676|The Fallen Angel ...|\n",
      "|         4661| [0, 0]|   5.0|        530591|       Another Freak|\n",
      "|         4661| [1, 2]|   5.0|          5311|              Cheryl|\n",
      "|         4661| [2, 2]|   5.0|        530537|             GinSing|\n",
      "|         4661| [1, 1]|   4.0|        530684|        Jennifer Lee|\n",
      "+-------------+-------+------+--------------+--------------------+\n",
      "only showing top 20 rows\n",
      "\n"
     ]
    }
   ],
   "source": [
    "df2 = df.withColumn('reviewerID_new', transform_udf_r('reviewerID')).withColumn('productID_new', transform_udf_p('productID'))\n",
    "df2 = df2.select('productID_new', 'helpful', 'rating', 'reviewerID_new', 'reviewerName')\n",
    "df2 = df2.withColumn('reviewerID_new', df2['reviewerID_new'].cast(IntegerType()))\n",
    "df2 = df2.withColumn('productID_new', df2['productID_new'].cast(IntegerType()))\n",
    "df2.show()"
   ]
  },
  {
   "cell_type": "code",
   "execution_count": 101,
   "metadata": {},
   "outputs": [
    {
     "name": "stdout",
     "output_type": "stream",
     "text": [
      "+----------+------+-------+--------------+--------------------+-------------+--------------+\n",
      "| productID|rating|helpful|    reviewerID|        reviewerName|productID_new|reviewerID_new|\n",
      "+----------+------+-------+--------------+--------------------+-------------+--------------+\n",
      "|616719923X|   4.0| [0, 0]|A1VEELTKS8NLZB|     Amazon Customer|         1870|          6633|\n",
      "|616719923X|   3.0| [0, 1]|A14R9XMZVJ6INB|             amf0001|         1870|           783|\n",
      "|616719923X|   4.0| [3, 4]|A27IQHDZFQFNGG|             Caitlin|         1870|          8454|\n",
      "|616719923X|   5.0| [0, 0]|A31QY5TASILE89|        DebraDownSth|         1870|          5294|\n",
      "|616719923X|   4.0| [1, 2]|A2LWK003FFMCI5|            Diana X.|         1870|          7498|\n",
      "|616719923X|   4.0| [0, 1]|A1NZJTY0BAA2SK|           Elizabeth|         1870|         12719|\n",
      "|616719923X|   3.0| [1, 2]| AA95FYFIP38RM|Emily Veinglory \"...|         1870|          9071|\n",
      "|616719923X|   5.0| [2, 3]|A3FIVHUOGMUMPK|           greenlife|         1870|          9823|\n",
      "|616719923X|   5.0| [0, 0]|A27FSPAMTQF1J8|              Japhyl|         1870|         12110|\n",
      "|616719923X|   1.0|[0, 10]|A33NXNZ79H5K51|         Jean M \"JM\"|         1870|          6616|\n",
      "|616719923X|   5.0| [6, 8]|A220GN2X2R47JE|              Jeremy|         1870|          7143|\n",
      "|616719923X|   5.0| [2, 3]|A3C5Z05IKSSFB9|M. Magpoc \"malias...|         1870|         10949|\n",
      "|616719923X|   5.0| [0, 0]| AHA6G4IMEMAJR|    M. Zinn \"mczinn\"|         1870|          2970|\n",
      "|616719923X|   5.0| [0, 0]|A1Q2E3W9PRG313|             Sabrina|         1870|         14413|\n",
      "|616719923X|   3.0| [0, 0]|A1P3PLYYMURAV1|               Sunny|         1870|         10484|\n",
      "|616719923X|   4.0| [0, 0]|A38IEZF0P3ZUQJ|The Fallen Angel ...|         1870|          6085|\n",
      "|9742356831|   5.0| [0, 0]|A23RYWDS884TUL|       Another Freak|         2061|         12944|\n",
      "|9742356831|   5.0| [1, 2]| A945RBQWGZXCK|              Cheryl|         2061|          9909|\n",
      "|9742356831|   5.0| [2, 2]|A1TCSC0YWT82Q0|             GinSing|         2061|          1435|\n",
      "|9742356831|   4.0| [1, 1]|A3AMNY44OP8AOU|        Jennifer Lee|         2061|          8747|\n",
      "+----------+------+-------+--------------+--------------------+-------------+--------------+\n",
      "only showing top 20 rows\n",
      "\n"
     ]
    }
   ],
   "source": [
    "product_indexer = StringIndexer(inputCol = \"productID\", outputCol = \"productID_new\")\n",
    "reviewer_indexer = StringIndexer(inputCol = \"reviewerID\", outputCol = \"reviewerID_new\")\n",
    "df2 = product_indexer.fit(df).transform(df)\n",
    "df2 = reviewer_indexer.fit(df2).transform(df2)\n",
    "\n",
    "df2 = df2.withColumn('reviewerID_new', df2['reviewerID_new'].cast(IntegerType()))\n",
    "df2 = df2.withColumn('productID_new', df2['productID_new'].cast(IntegerType()))\n",
    "df2.show()"
   ]
  },
  {
   "cell_type": "code",
   "execution_count": 102,
   "metadata": {
    "scrolled": false
   },
   "outputs": [
    {
     "name": "stdout",
     "output_type": "stream",
     "text": [
      "root\n",
      " |-- productID: string (nullable = true)\n",
      " |-- rating: float (nullable = true)\n",
      " |-- helpful: array (nullable = true)\n",
      " |    |-- element: long (containsNull = true)\n",
      " |-- reviewerID: string (nullable = true)\n",
      " |-- reviewerName: string (nullable = true)\n",
      " |-- productID_new: integer (nullable = true)\n",
      " |-- reviewerID_new: integer (nullable = true)\n",
      "\n"
     ]
    }
   ],
   "source": [
    "df2.printSchema()"
   ]
  },
  {
   "cell_type": "code",
   "execution_count": 109,
   "metadata": {},
   "outputs": [
    {
     "name": "stdout",
     "output_type": "stream",
     "text": [
      "+--------------+--------------------+\n",
      "|reviewerID_new|     recommendations|\n",
      "+--------------+--------------------+\n",
      "|          1580|[[2826,28.482517]...|\n",
      "|          4900|[[2082,20.938055]...|\n",
      "|          5300|[[3256,17.94306],...|\n",
      "|          6620|[[2726,30.91946],...|\n",
      "|          7240|[[2580,10.034191]...|\n",
      "|          7340|[[2522,10.798242]...|\n",
      "|          7880|[[2397,12.689244]...|\n",
      "|          9900|[[2159,6.905856],...|\n",
      "|         12940|[[2159,9.748415],...|\n",
      "|         13840|[[6469,13.420512]...|\n",
      "|         14450|[[2317,8.925297],...|\n",
      "|         14570|[[1537,6.2009215]...|\n",
      "|           471|[[3356,11.997231]...|\n",
      "|          1591|[[2174,27.535929]...|\n",
      "|          4101|[[2826,31.040247]...|\n",
      "|         11141|[[2031,16.978199]...|\n",
      "|          1342|[[2065,18.37086],...|\n",
      "|          2122|[[2305,18.53215],...|\n",
      "|          2142|[[4140,17.25621],...|\n",
      "|          7982|[[1111,7.6400695]...|\n",
      "+--------------+--------------------+\n",
      "only showing top 20 rows\n",
      "\n"
     ]
    }
   ],
   "source": [
    "userRecs = model.recommendForAllUsers(10)\n",
    "userRecs.show()"
   ]
  },
  {
   "cell_type": "code",
   "execution_count": 110,
   "metadata": {},
   "outputs": [
    {
     "name": "stdout",
     "output_type": "stream",
     "text": [
      "root\n",
      " |-- reviewerID_new: integer (nullable = false)\n",
      " |-- recommendations: array (nullable = true)\n",
      " |    |-- element: struct (containsNull = true)\n",
      " |    |    |-- productID_new: integer (nullable = true)\n",
      " |    |    |-- rating: float (nullable = true)\n",
      "\n"
     ]
    }
   ],
   "source": [
    "userRecs.printSchema()"
   ]
  }
 ],
 "metadata": {
  "kernelspec": {
   "display_name": "Python 3",
   "language": "python",
   "name": "python3"
  },
  "language_info": {
   "codemirror_mode": {
    "name": "ipython",
    "version": 3
   },
   "file_extension": ".py",
   "mimetype": "text/x-python",
   "name": "python",
   "nbconvert_exporter": "python",
   "pygments_lexer": "ipython3",
   "version": "3.6.5"
  }
 },
 "nbformat": 4,
 "nbformat_minor": 2
}
